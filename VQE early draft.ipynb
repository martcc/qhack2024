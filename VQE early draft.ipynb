{
 "cells": [
  {
   "cell_type": "code",
   "execution_count": 1,
   "id": "492e9411-6ffd-4f04-9e9d-b8f0adf025ab",
   "metadata": {},
   "outputs": [],
   "source": [
    "# General imports\n",
    "import numpy as np\n",
    "\n",
    "# Pre-defined ansatz circuit and operator class for Hamiltonian\n",
    "from qiskit.circuit.library import EfficientSU2\n",
    "from qiskit.quantum_info import SparsePauliOp\n",
    "\n",
    "# SciPy minimizer routine\n",
    "from scipy.optimize import minimize\n",
    "\n",
    "# Plotting functions\n",
    "import matplotlib.pyplot as plt"
   ]
  },
  {
   "cell_type": "code",
   "execution_count": 2,
   "id": "18a0a065-6cfb-40bd-9ca8-5a8e69b122d2",
   "metadata": {},
   "outputs": [],
   "source": [
    "from qiskit import *\n",
    "from qiskit.visualization import *\n",
    "import numpy as np\n",
    "from qiskit_ibm_runtime import QiskitRuntimeService, Sampler, Estimator, Session\n",
    "from qiskit.primitives import Sampler\n",
    "# Loading IBM Quantum account\n",
    "service = QiskitRuntimeService(channel=\"ibm_quantum\", token=\"8558f42abd5ce4c37e51ce37375293303fab09a45f771700ee214028841a7a19c5a8eedca85b84770d7d51177d9869776d88e8adb34bbf0a91b6c607a2e5d1a7\")\n",
    "backend = service.least_busy(operational=True, simulator=False)"
   ]
  },
  {
   "cell_type": "code",
   "execution_count": 3,
   "id": "e2314780-87e2-4085-a918-cb3fd9f36892",
   "metadata": {},
   "outputs": [],
   "source": [
    "def test_ansatz(params):\n",
    "    ansatz = EfficientSU2(size)\n",
    "    ansatz.measure_all()\n",
    "\n",
    "    pub = (ansatz, params)\n",
    "    job = sampler.run([pub], shots=shots)\n",
    "    \n",
    "    result = job.result()[0]\n",
    "\n",
    "    vector = dict_to_vec(result.data.meas.get_int_counts(), size)\n",
    "    for i in range(len(vector)):\n",
    "        vector[i] /= shots\n",
    "    \n",
    "    return vector"
   ]
  },
  {
   "cell_type": "code",
   "execution_count": 4,
   "id": "e03ace88-57d6-4a0b-a5a2-900be4de78af",
   "metadata": {},
   "outputs": [],
   "source": [
    "def cost_func(params):\n",
    "    ansatz = EfficientSU2(size)\n",
    "    ansatz.measure_all()\n",
    "\n",
    "    pub = (ansatz, params)\n",
    "    job = sampler.run([pub], shots=shots)\n",
    "    \n",
    "    result = job.result()[0]\n",
    "\n",
    "    vector = dict_to_vec(result.data.meas.get_int_counts(), size)\n",
    "\n",
    "    value = 0\n",
    "    for i in range(len(vector)):\n",
    "        value += np.abs((vector[i]/shots)-target_vector[i])\n",
    "    \n",
    "    return value"
   ]
  },
  {
   "cell_type": "code",
   "execution_count": 5,
   "id": "236d20e5-b1b3-4594-8a5b-970a5d1faf7f",
   "metadata": {},
   "outputs": [],
   "source": [
    "def dict_to_vec(dict, qubit_size):\n",
    "    keys_list = list(dict.keys())\n",
    "\n",
    "    vector = []\n",
    "    for i in range(2**qubit_size):\n",
    "        vector.append(dict.get(i, 0))\n",
    "        \n",
    "    return vector"
   ]
  },
  {
   "cell_type": "code",
   "execution_count": 6,
   "id": "31cecb6c-2332-45ab-a1e7-e1cbb8f7ac4c",
   "metadata": {},
   "outputs": [
    {
     "name": "stdout",
     "output_type": "stream",
     "text": [
      "0.7257255436748351\n",
      "Optimal parameters: [4.15450596 3.77640529 3.75555552 2.20204902 4.7006059  4.73341733\n",
      " 2.49149954 1.31861531 0.66373789 1.87506943 4.6672516  1.50874672\n",
      " 2.88175639 3.04497431 0.39820091 2.27317946 2.17241356 6.19692066\n",
      " 6.2550553  6.52951097 1.2020304  0.7687695  3.84608055 1.60942254\n",
      " 4.63794776 4.93971671 6.65139438 4.61352641 4.32083613 3.89005844\n",
      " 2.28719502 2.68537083]\n",
      "Minimum function value: 0.7257255436748351\n",
      "[-0.05724101081395527, -0.023649777950668083, -0.02392368508563868, -0.08225198369717561, -0.003568116285293869, 0.008759582405203352, -0.015332894802475378, -0.10435484233930611, -0.014414495308430517, -0.0786583105827807, -0.04386019963949786, -0.010163580737443702, -0.12998749081718042, -0.0386066082154697, -0.026502697396154684, -0.06245026759816114]\n"
     ]
    }
   ],
   "source": [
    "from qiskit import QuantumCircuit\n",
    "from qiskit.primitives import StatevectorSampler\n",
    "\n",
    "from memory_profiler import memory_usage\n",
    "\n",
    "with Session(backend=backend) as session:\n",
    "    size = 4\n",
    "    shots = 1000\n",
    "    target_vector = np.random.random(2**size)\n",
    "\n",
    "    norm = 0\n",
    "    for i in target_vector:\n",
    "        norm += i*i\n",
    "    for i in range(len(target_vector)):\n",
    "        target_vector[i] /= norm\n",
    "    \n",
    "    sampler = StatevectorSampler()\n",
    "    \n",
    "    error = 1000000000000000000\n",
    "    while error > 100000000:\n",
    "        x0 = 2 * np.pi * np.random.random(size*8)\n",
    "        result = minimize(cost_func, x0, method='COBYLA', options={'tol': 1e-4, 'disp': True})\n",
    "        error = result.fun\n",
    "        print(error)\n",
    "\n",
    "    print(\"Optimal parameters:\", result.x)\n",
    "    print(\"Minimum function value:\", result.fun)\n",
    "\n",
    "    v = test_ansatz(result.x)\n",
    "\n",
    "    d = []\n",
    "    for i in range(len(v)):\n",
    "        d.append(v[i]-target_vector[i])\n",
    "    print(d)"
   ]
  },
  {
   "cell_type": "code",
   "execution_count": 16,
   "id": "1b732dec-293a-446f-b4d6-71835d958f2c",
   "metadata": {},
   "outputs": [
    {
     "name": "stdout",
     "output_type": "stream",
     "text": [
      "Average memory usage during optimization (MB): 247.06417410714286\n"
     ]
    }
   ],
   "source": [
    "from memory_profiler import memory_usage\n",
    "\n",
    "def ability_test():\n",
    "    error = 1000000000000000000\n",
    "    while error > 100000000:\n",
    "        x0 = 2 * np.pi * np.random.random(size*8)\n",
    "        result = minimize(cost_func, x0, method='COBYLA', options={'tol': 1e-4, 'disp': True})\n",
    "        error = result.fun\n",
    "    \n",
    "    v = test_ansatz(result.x)\n",
    "    return v\n",
    "\n",
    "with Session(backend=backend) as session:\n",
    "    size = 5\n",
    "    shots = 1000\n",
    "    target_vector = np.random.random(2**size)\n",
    "\n",
    "    norm = 0\n",
    "    for i in target_vector:\n",
    "        norm += i*i\n",
    "    for i in range(len(target_vector)):\n",
    "        target_vector[i] /= norm\n",
    "    \n",
    "    sampler = StatevectorSampler()\n",
    "    \n",
    "    mem_usage = memory_usage(ability_test, interval=1)\n",
    "    print(\"Average memory usage during optimization (MB):\", sum(mem_usage) / len(mem_usage))"
   ]
  },
  {
   "cell_type": "code",
   "execution_count": 22,
   "id": "f10a51a8-a3d5-4e4f-b282-68d2ebac856d",
   "metadata": {},
   "outputs": [
    {
     "name": "stdout",
     "output_type": "stream",
     "text": [
      "Time elapsed during optimization (s): 3.901832342147827\n"
     ]
    }
   ],
   "source": [
    "import time\n",
    "\n",
    "with Session(backend=backend) as session:\n",
    "    size = 5\n",
    "    shots = 1000\n",
    "    target_vector = np.random.random(2**size)\n",
    "\n",
    "    norm = 0\n",
    "    for i in target_vector:\n",
    "        norm += i*i\n",
    "    for i in range(len(target_vector)):\n",
    "        target_vector[i] /= norm\n",
    "    \n",
    "    sampler = StatevectorSampler()\n",
    "    \n",
    "    start_time = time.time()\n",
    "    ability_test()\n",
    "    end_time = time.time()\n",
    "    print(\"Time elapsed during optimization (s):\", end_time - start_time)"
   ]
  }
 ],
 "metadata": {
  "kernelspec": {
   "display_name": "Python 3 (ipykernel)",
   "language": "python",
   "name": "python3"
  },
  "language_info": {
   "codemirror_mode": {
    "name": "ipython",
    "version": 3
   },
   "file_extension": ".py",
   "mimetype": "text/x-python",
   "name": "python",
   "nbconvert_exporter": "python",
   "pygments_lexer": "ipython3",
   "version": "3.12.4"
  }
 },
 "nbformat": 4,
 "nbformat_minor": 5
}
